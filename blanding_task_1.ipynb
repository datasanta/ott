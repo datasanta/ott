{
 "cells": [
  {
   "cell_type": "code",
   "execution_count": null,
   "metadata": {},
   "outputs": [],
   "source": [
    "import pandas as pd\n",
    "import numpy as np"
   ]
  },
  {
   "cell_type": "code",
   "execution_count": null,
   "metadata": {},
   "outputs": [],
   "source": [
    "datasanta = pd.read_csv('submissions/datasanta_1.csv')\n",
    "egor = pd.read_csv('submissions/egor_1.csv')\n",
    "alwayswannadie = pd.read_csv('submissions/alwayswannadie_1.csv')"
   ]
  },
  {
   "cell_type": "code",
   "execution_count": null,
   "metadata": {},
   "outputs": [],
   "source": [
    "datasanta.rename({'proba':'proba_ds'}, axis=1, inplace=True)\n",
    "egor.rename({'proba':'proba_eg'}, axis=1, inplace=True)\n",
    "alwayswannadie.rename({'proba':'proba_al'}, axis=1, inplace=True)"
   ]
  },
  {
   "cell_type": "code",
   "execution_count": null,
   "metadata": {},
   "outputs": [],
   "source": [
    "final = datasanta.merge(egor)\n",
    "final = final.merge(alwayswannadie)"
   ]
  },
  {
   "cell_type": "code",
   "execution_count": null,
   "metadata": {},
   "outputs": [],
   "source": [
    "final['proba'] = np.round(0.5*final['proba_ds'] + 0.3*final['proba_eg'] + 0.2*final['proba_al'],4)"
   ]
  },
  {
   "cell_type": "code",
   "execution_count": null,
   "metadata": {},
   "outputs": [],
   "source": [
    "final[['orderid', 'proba']].to_csv('final_submission_task_1.csv', index=False)"
   ]
  }
 ],
 "metadata": {
  "kernelspec": {
   "display_name": "Python 3",
   "language": "python",
   "name": "python3"
  },
  "language_info": {
   "codemirror_mode": {
    "name": "ipython",
    "version": 3
   },
   "file_extension": ".py",
   "mimetype": "text/x-python",
   "name": "python",
   "nbconvert_exporter": "python",
   "pygments_lexer": "ipython3",
   "version": "3.6.5"
  }
 },
 "nbformat": 4,
 "nbformat_minor": 2
}
