{
 "cells": [
  {
   "cell_type": "code",
   "execution_count": null,
   "metadata": {},
   "outputs": [],
   "source": [
    "import pandas as pd\n",
    "import numpy as np"
   ]
  },
  {
   "cell_type": "code",
   "execution_count": null,
   "metadata": {},
   "outputs": [],
   "source": [
    "alwayswannadie = pd.read_csv('submissions/alwayswannadie_2.csv')\n",
    "datasanta = pd.read_csv('submissions/datasanta_2.csv')\n",
    "egor = pd.read_csv('submissions/egor_2.csv')"
   ]
  },
  {
   "cell_type": "code",
   "execution_count": null,
   "metadata": {},
   "outputs": [],
   "source": [
    "targets = ['goal21', 'goal22', 'goal23', 'goal24', 'goal25']\n",
    "weights = [(0.6, 0.2, 0.2), (0.6, 0.3, 0.1), (0.6, 0.2, 0.2), (0.6, 0.2, 0.2), (0.6, 0.2, 0.2)]"
   ]
  },
  {
   "cell_type": "code",
   "execution_count": null,
   "metadata": {},
   "outputs": [],
   "source": [
    "final = datasanta.merge(alwayswannadie, on=['orderid'], suffixes=['_ds', '_al'])"
   ]
  },
  {
   "cell_type": "code",
   "execution_count": null,
   "metadata": {},
   "outputs": [],
   "source": [
    "for targ in targets:\n",
    "    egor.rename({targ: targ+'_eg'}, axis=1, inplace=True)"
   ]
  },
  {
   "cell_type": "code",
   "execution_count": null,
   "metadata": {},
   "outputs": [],
   "source": [
    "final = final.merge(egor, on=['orderid'])"
   ]
  },
  {
   "cell_type": "code",
   "execution_count": null,
   "metadata": {
    "scrolled": true
   },
   "outputs": [],
   "source": [
    "for i in range(len(targets)):\n",
    "    \n",
    "    targ = targets[i]\n",
    "    weight = weights[i]\n",
    "    \n",
    "    final[targ] = np.round((weight[0]*final[targ+'_al'] + weight[1]*final[targ+'_ds'] + weight[2]*final[targ+'_bor']),4)"
   ]
  },
  {
   "cell_type": "code",
   "execution_count": null,
   "metadata": {},
   "outputs": [],
   "source": [
    "final[['orderid', 'goal21', 'goal22', 'goal23', 'goal24', 'goal25']].to_csv('final_submission_task_2.csv', index=False)"
   ]
  }
 ],
 "metadata": {
  "kernelspec": {
   "display_name": "Python 3",
   "language": "python",
   "name": "python3"
  },
  "language_info": {
   "codemirror_mode": {
    "name": "ipython",
    "version": 3
   },
   "file_extension": ".py",
   "mimetype": "text/x-python",
   "name": "python",
   "nbconvert_exporter": "python",
   "pygments_lexer": "ipython3",
   "version": "3.6.5"
  }
 },
 "nbformat": 4,
 "nbformat_minor": 2
}
