{
 "cells": [
  {
   "cell_type": "code",
   "execution_count": 1,
   "metadata": {
    "colab": {},
    "colab_type": "code",
    "id": "u0d8UhD7HYmJ"
   },
   "outputs": [],
   "source": [
    "import pandas as pd\n",
    "import numpy as np\n",
    "import lightgbm as lgb\n",
    "from itertools import combinations\n",
    "from sklearn.base import clone"
   ]
  },
  {
   "cell_type": "code",
   "execution_count": 2,
   "metadata": {
    "colab": {},
    "colab_type": "code",
    "id": "ifSpzr0rImX6"
   },
   "outputs": [],
   "source": [
    "# Загрузка данных\n",
    "df = pd.read_csv(r'data/onetwotrip_challenge_train.csv')\n",
    "test = pd.read_csv(r'data/onetwotrip_challenge_test.csv')"
   ]
  },
  {
   "cell_type": "code",
   "execution_count": 3,
   "metadata": {
    "colab": {},
    "colab_type": "code",
    "id": "Ahm8zlqJIvQl"
   },
   "outputs": [],
   "source": [
    "cols = ['field0', 'field1', 'field2', 'field3', 'field4', 'field5', 'field6', 'field7', 'field8', 'field9',\n",
    "       'field10', 'field11', 'field12', 'field13', 'field14', 'field15', 'field16', 'field17', 'field18',\n",
    "       'field19', 'field20', 'field21', 'field22', 'field23', 'field24', 'field25', 'field26', 'field27',\n",
    "       'field28', 'field29']\n",
    "\n",
    "indicators = ['indicator_goal21', 'indicator_goal22', 'indicator_goal23', 'indicator_goal24', 'indicator_goal25']\n",
    "\n",
    "goals = ['goal21', 'goal22', 'goal23', 'goal24', 'goal25']\n",
    "\n",
    "cols_model1 = cols + indicators + \\\n",
    "['user_count', 'month_p', 'month_f', 'same_flight_count_month', 'hours_to_flight', 'hours_since_purchase', 'hours_to_next_purchase',\n",
    " 'diff_hours_between_next_purchase', 'diff_hours_between_prev_purchase', 'sh_field14_p_d', 'sh_field14_n_d', 'sh_field27_p_d',\n",
    " 'sh_field27_n_d', 'sh_field22_p_d', 'sh_field22_n_d', 'sh_field26_p_d', 'sh_field26_n_d', 'sh_field1_p_d', 'sh_field1_n_d',\n",
    " 'sh_field16_p_d', 'sh_field16_n_d', 'sh_field12_p_d', 'sh_field12_n_d', 'sh_field13_p_d', 'sh_field13_n_d', 'sh_field0_p_d',\n",
    " 'sh_field0_n_d', 'field14_um', 'field27_um', 'field22_um', 'field26_um', 'field1_um', 'field16_um', 'field12_um', 'field13_um',\n",
    " 'field0_um', 'indicator_goal21_sum', 'indicator_goal22_sum', 'indicator_goal23_sum', 'indicator_goal24_sum', 'indicator_goal25_sum']\n",
    "\n",
    "cols_model2 = cols + \\\n",
    "['indicator_goal21indicator_goal22', 'indicator_goal21indicator_goal23', 'indicator_goal21indicator_goal24',\n",
    "'indicator_goal21indicator_goal25', 'indicator_goal22indicator_goal23', 'indicator_goal22indicator_goal24',\n",
    "'indicator_goal22indicator_goal25', 'indicator_goal23indicator_goal24', 'indicator_goal23indicator_goal25',\n",
    "'indicator_goal24indicator_goal25'] + \\\n",
    "indicators \n",
    "\n",
    "model = lgb.LGBMRegressor(objective='binary',\n",
    "                          learning_rate=0.01238, \n",
    "                          n_estimators=1200,\n",
    "                          feature_fraction=0.6094,\n",
    "                          subsample=0.6,\n",
    "                          num_leaves=15, \n",
    "                          max_depth=6,\n",
    "                          random_state=10,\n",
    "                          n_jobs=-1, \n",
    "                          min_data_in_leaf=50)"
   ]
  },
  {
   "cell_type": "code",
   "execution_count": 4,
   "metadata": {
    "colab": {},
    "colab_type": "code",
    "id": "ojnv6B97JJM5"
   },
   "outputs": [],
   "source": [
    "def target_encoding_get_dict(data, target, column, z=10, l=100):\n",
    "    \"\"\"Подготовка словаря для таргет энкодинга\"\"\"\n",
    "    mean_all = data[target].mean()\n",
    "    mean_count = data.groupby(column)[target].agg(['mean', 'count'])\n",
    "    mean_count = mean_count[mean_count['count']>z]\n",
    "    mean_count['mean'] = (mean_count['mean']*mean_count['count'] + l*mean_all) / (l+mean_count['count'])\n",
    "    return mean_count['mean'].to_dict() \n",
    "\n",
    "def target_encoding_fit_transform(train, test, target, column, new_column, z=10, l=100):\n",
    "    \"\"\"Обучение и предискиты для словаря таргет энкодинга\"\"\"\n",
    "    tedict = target_encoding_get_dict(train, target, column, z, l)\n",
    "    temean = train[target].mean()\n",
    "    test[new_column] = test[column].map(tedict).fillna(temean)\n",
    "    train[new_column] = train[column].map(tedict).fillna(temean) \n",
    "    return train, test\n",
    "\n",
    "def target_encoding(train, test, goals):\n",
    "    \"\"\"Применение таргет энкодинга к нужным колонкам\"\"\"\n",
    "    cols_to_encoding = ['field12', 'field27']\n",
    "    for i in cols_to_encoding:\n",
    "        for j in goals:\n",
    "            train, test = target_encoding_fit_transform(train, test, j, i, '{}_e_{}'.format(i, j), z=1000, l=1000)\n",
    "    return train, test\n",
    "\n",
    "def feature_engineering(data):\n",
    "    \"\"\"Генерируем основные фичи\"\"\"\n",
    "    data = data.sort_values(by='field4')\n",
    "    #Кол-во записей по пользователю\n",
    "    data['user_count'] = data.groupby('userid')['userid'].transform('count')\n",
    "    #Исправленные месяца\n",
    "    data['month_p'] = np.where(data['field21']==1, data['field2']+12, data['field2'])\n",
    "    data['month_f'] = np.where((data['field2'] == data['field3']) & (data['field16']<=31), data['month_p'],\n",
    "                    np.where(data['field3']<data['field2'], data['field3']+12,\n",
    "                    np.where(data['field16']<365, data['field3'], data['field3']+12)))   \n",
    "    data['same_flight_count_month'] = data.groupby(['userid', 'month_f'])['userid'].transform('count')\n",
    "    #Время до полета\n",
    "    data['hours_to_flight'] = (data['field16']-1)*24+(24-data['field11'])+data['field23']\n",
    "    #Расстояние до ближайших заказов пользователя\n",
    "    data['hours_since_purchase'] = (data['field0']-1)*24+(24-data.groupby('userid')['field11'].shift(1))+data['field11']\n",
    "    data['hours_to_next_purchase'] = data.groupby('userid')['hours_since_purchase'].shift(-1)\n",
    "    #Расстояние между этой датой полета и датой полета соседних покупок\n",
    "    data['diff_hours_between_next_purchase'] = data['hours_to_flight'] \\\n",
    "    - (data['hours_to_next_purchase'] + data.groupby('userid')['hours_to_flight'].shift(-1))\n",
    "    data['diff_hours_between_prev_purchase'] = data.groupby('userid')['hours_to_flight'].shift(1) \\\n",
    "    - (data['hours_since_purchase'] + data['hours_to_flight'])\n",
    "\n",
    "    #Разница между текущем знчаемем признака и соседними значениями для пользователя\n",
    "    add_cols = ['field14', 'field27', 'field22', 'field26', 'field1', 'field16', 'field12', 'field13', 'field0']\n",
    "    for i in add_cols:\n",
    "        data['sh_{}_p_d'.format(i)] = data[i] - data.groupby('userid')[i].shift(1)\n",
    "        data['sh_{}_n_d'.format(i)] = data[i] - data.groupby('userid')[i].shift(-1)\n",
    "\n",
    "    #Разница между текущим значениме признака и средним значением для пользователя\n",
    "    for i in add_cols:\n",
    "        data['{}_um'.format(i)] = data[i] - data.groupby('userid')[i].transform('mean')\n",
    "\n",
    "    #Суммы индикаторов по пользователю\n",
    "    iteractions = ['indicator_goal21', 'indicator_goal22', 'indicator_goal23', 'indicator_goal24', 'indicator_goal25']\n",
    "    for i in iteractions:\n",
    "        data['{}_sum'.format(i)] = data.groupby('userid')[i].transform('sum')\n",
    "\n",
    "    #Итеракции по индикаторам\n",
    "    for i, j  in [*combinations(iteractions, 2)]:\n",
    "        data['{}{}'.format(i, j)] = data.loc[:,[j, i]].min(axis=1)\n",
    "\n",
    "    return data\n",
    "\n",
    "def model_fit_predict(train, test, model, cols_model1, cols_model2, goals):\n",
    "    \"\"\"Обучение моделей и предикиты\n",
    "    Предикт для каждого таргета - это блендинг двух моделей.\n",
    "    Первая - модель без шифтов, но с таргет энкодингом для двух фич.\n",
    "    Вторая - модель без таргет энкодинга но с шифтами и др. сатистисками по пользователям \"\"\"\n",
    "    for i in goals:\n",
    "        model1 = clone(model).fit(train.loc[:,cols_model1], train[i])\n",
    "        model2 = clone(model).fit(train.loc[:,cols_model2+['field12_e_{}'.format(i), 'field27_e_{}'.format(i)]], train[i])\n",
    "        model1_p = model1.predict(test.loc[:,cols_model1]) \n",
    "        model2_p = model2.predict(test.loc[:,cols_model2+['field12_e_{}'.format(i), 'field27_e_{}'.format(i)]])\n",
    "        test[i] = np.where(test['user_count']==1, model1_p*0.2 + model2_p*0.8, \n",
    "                  np.where(test['user_count']<3, model1_p*0.5 + model2_p*0.5, model1_p*0.7 + model2_p*0.3))\n",
    "    return test"
   ]
  },
  {
   "cell_type": "code",
   "execution_count": 5,
   "metadata": {
    "colab": {},
    "colab_type": "code",
    "id": "OxkpR0wuOBRk"
   },
   "outputs": [],
   "source": [
    "df = feature_engineering(df)\n",
    "test = feature_engineering(test)\n",
    "df, test = target_encoding(df, test, goals)"
   ]
  },
  {
   "cell_type": "code",
   "execution_count": 6,
   "metadata": {
    "colab": {
     "base_uri": "https://localhost:8080/",
     "height": 102
    },
    "colab_type": "code",
    "id": "QiffqdGYJalh",
    "outputId": "6d764ed4-0e32-4f13-d3b3-3c1adbbce186"
   },
   "outputs": [],
   "source": [
    "test = model_fit_predict(df, test, model, cols_model1, cols_model2, goals)"
   ]
  },
  {
   "cell_type": "code",
   "execution_count": 7,
   "metadata": {
    "colab": {
     "base_uri": "https://localhost:8080/",
     "height": 419
    },
    "colab_type": "code",
    "id": "msS1XQRxpKOc",
    "outputId": "f6fc68a9-bd3b-4e22-d9ef-12d42e6d9c5e"
   },
   "outputs": [],
   "source": [
    "test[['orderid'] + goals].to_csv(r'submissions\\egor_2.csv', index=False)"
   ]
  }
 ],
 "metadata": {
  "colab": {
   "collapsed_sections": [],
   "name": "egor task 2 final.ipynb",
   "provenance": []
  },
  "kernelspec": {
   "display_name": "Python 3",
   "language": "python",
   "name": "python3"
  },
  "language_info": {
   "codemirror_mode": {
    "name": "ipython",
    "version": 3
   },
   "file_extension": ".py",
   "mimetype": "text/x-python",
   "name": "python",
   "nbconvert_exporter": "python",
   "pygments_lexer": "ipython3",
   "version": "3.5.4"
  }
 },
 "nbformat": 4,
 "nbformat_minor": 1
}
