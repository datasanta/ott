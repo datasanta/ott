{
 "cells": [
  {
   "cell_type": "code",
   "execution_count": 19,
   "metadata": {
    "colab": {},
    "colab_type": "code",
    "id": "Io5j96OV6qk-"
   },
   "outputs": [],
   "source": [
    "import pandas as pd\n",
    "import numpy as np\n",
    "import lightgbm as lgb\n",
    "from itertools import combinations\n",
    "from sklearn.base import clone"
   ]
  },
  {
   "cell_type": "code",
   "execution_count": 20,
   "metadata": {
    "colab": {},
    "colab_type": "code",
    "id": "Y_DNhFg5039u"
   },
   "outputs": [],
   "source": [
    "#Загрузка данных\n",
    "df = pd.read_csv(r'data/onetwotrip_challenge_train.csv')\n",
    "test = pd.read_csv(r'data/onetwotrip_challenge_test.csv')"
   ]
  },
  {
   "cell_type": "code",
   "execution_count": 21,
   "metadata": {
    "colab": {},
    "colab_type": "code",
    "id": "Wqgc6Q1h09FK"
   },
   "outputs": [],
   "source": [
    "def feature_engineering(data):\n",
    "    data = data.sort_values(by='field4')\n",
    "    #Кол-во записей по пользователю\n",
    "    data['user_count'] = data.groupby('userid')['userid'].transform('count')\n",
    "    #Исправленные месяца\n",
    "    data['month_p'] = np.where(data['field21']==1, data['field2']+12, data['field2'])\n",
    "    data['month_f'] = np.where((data['field2'] == data['field3']) & (data['field16']<=31), data['month_p'],\n",
    "                    np.where(data['field3']<data['field2'], data['field3']+12,\n",
    "                    np.where(data['field16']<365, data['field3'], data['field3']+12)))   \n",
    "    data['same_flight_count_month'] = data.groupby(['userid', 'month_f'])['userid'].transform('count')\n",
    "    #Время до полета\n",
    "    data['hours_to_flight'] = (data['field16']-1)*24+(24-data['field11'])+data['field23']\n",
    "    #Расстояние до ближайших заказов пользователя\n",
    "    data['hours_since_purchase'] = (data['field0']-1)*24+(24-data.groupby('userid')['field11'].shift(1))+data['field11']\n",
    "    data['hours_to_next_purchase'] = data.groupby('userid')['hours_since_purchase'].shift(-1)\n",
    "    ##Расстояние между этой датой полета и датой полета соседних покупок\n",
    "    data['diff_hours_between_next_purchase'] = data['hours_to_flight'] \\\n",
    "    - (data['hours_to_next_purchase'] + data.groupby('userid')['hours_to_flight'].shift(-1))\n",
    "    data['diff_hours_between_prev_purchase'] = data.groupby('userid')['hours_to_flight'].shift(1) \\\n",
    "    - (data['hours_since_purchase'] + data['hours_to_flight'])\n",
    "\n",
    "    #Дополнительные шифты по колонкам\n",
    "    cols_shift1 = ['field13', 'field16', 'field22', 'field26']\n",
    "    for i in cols_shift1:\n",
    "        data['sh_{}_p_d'.format(i)] = data[i] - data.groupby('userid')[i].shift(1)\n",
    "        data['sh_{}_n'.format(i)] = data.groupby('userid')[i].shift(-1)\n",
    "        data['sh_{}_n_d'.format(i)] = data[i] - data['sh_{}_n'.format(i)]\n",
    "        cols_shift2 = ['field16', 'field26']\n",
    "    for i in cols_shift2:\n",
    "        data['sh_{}_n1'.format(i)] = data.groupby('userid')[i].shift(-2)\n",
    "        data['sh_{}_n_d1'.format(i)] = data[i] - data['sh_{}_n1'.format(i)]\n",
    "\n",
    "    #Допонительные фичи по пользователям\n",
    "    cols_to_user_features = ['field2', 'field3', 'field16', 'field26']\n",
    "    for i in cols_to_user_features:\n",
    "        data['{}_um'.format(i)] = data[i] - data.groupby('userid')[i].transform('mean')\n",
    "        data['{}_us'.format(i)] = data.groupby('userid')[i].transform('std') \n",
    "\n",
    "    #Дополнительные фичи по пользователям\n",
    "    for i in ['indicator_goal24']:\n",
    "        data['{}_std'.format(i)] = data.groupby('userid')[i].transform('std')\n",
    "        \n",
    "    return data\n",
    "\n",
    "def target_encoding(data, target, column, z=10, l=100):\n",
    "    mean_all = data[target].mean()\n",
    "    mean_count = data.groupby(column)[target].agg(['mean', 'count'])\n",
    "    mean_count = mean_count[mean_count['count']>z]\n",
    "    mean_count['mean'] = (mean_count['mean']*mean_count['count'] + l*mean_all) / (l+mean_count['count'])\n",
    "    return mean_count['mean'].to_dict() \n",
    "\n",
    "def target_encoding_fit_transform(train, test, target, column, new_column, z=10, l=100):\n",
    "    tedict = target_encoding(train, target, column, z, l)\n",
    "    temean = train[target].mean()\n",
    "    test[new_column] = test[column].map(tedict).fillna(temean)\n",
    "    train[new_column] = train[column].map(tedict).fillna(temean) \n",
    "    return train, test"
   ]
  },
  {
   "cell_type": "code",
   "execution_count": 22,
   "metadata": {
    "colab": {},
    "colab_type": "code",
    "id": "FZFIORx75YZb"
   },
   "outputs": [],
   "source": [
    "df = feature_engineering(df)\n",
    "test = feature_engineering(test)\n",
    "df, test = target_encoding_fit_transform(df, test, 'goal1', 'field12', 'field12_e', z=1000, l=1000)"
   ]
  },
  {
   "cell_type": "code",
   "execution_count": 23,
   "metadata": {
    "colab": {},
    "colab_type": "code",
    "id": "kGUYax3n5q9s"
   },
   "outputs": [],
   "source": [
    "cols_forward = ['hours_to_flight', 'diff_hours_between_next_purchase', 'field12', 'field14', 'sh_field22_n_d', 'field6', 'hours_to_next_purchase', \n",
    "                'month_p', 'sh_field26_n', 'field20', 'indicator_goal22', 'sh_field26_p_d', 'sh_field16_n_d1', 'indicator_goal24_std']\n",
    "\n",
    "cols_backward = ['month_p', 'sh_field13_n_d', 'sh_field16_p_d', 'field1', 'hours_to_next_purchase', 'field6', 'sh_field22_n_d',\n",
    "                 'field16', 'field12', 'diff_hours_between_next_purchase', 'field21', 'field28', 'indicator_goal24', 'sh_field26_n1',\n",
    "                 'field2_us', 'field3_us', 'field16_um', 'field26_us']\n",
    "\n",
    "cols = ['field0', 'field1', 'field2', 'field3', 'field4', 'field5', 'field6', 'field7', 'field8', 'field9', 'field10', 'field11', 'field12',\n",
    "        'field13', 'field14', 'field15', 'field16', 'field17', 'field18', 'field19', 'field20', 'field21', 'field22', 'field23', 'field24', 'field25',\n",
    "        'field26', 'field27', 'field28', 'field29', 'indicator_goal21', 'indicator_goal22', 'indicator_goal23', 'indicator_goal24', 'indicator_goal25', 'field12_e']"
   ]
  },
  {
   "cell_type": "code",
   "execution_count": 24,
   "metadata": {
    "colab": {},
    "colab_type": "code",
    "id": "50OkEZ9N6nHS"
   },
   "outputs": [],
   "source": [
    "model1 = lgb.LGBMRegressor(objective='binary',\n",
    "                          learning_rate=0.01238, \n",
    "                          n_estimators=950,\n",
    "                          feature_fraction=0.6094,\n",
    "                          num_leaves=15, \n",
    "                          max_depth=6,\n",
    "                          n_jobs=-1, \n",
    "                          min_data_in_leaf=50)\n",
    "\n",
    "model2 = lgb.LGBMRegressor(objective='binary',\n",
    "                          learning_rate=0.068, \n",
    "                          max_depth=12, \n",
    "                          n_estimators=200, \n",
    "                          num_leaves=10,\n",
    "                          boosting_type='goss')"
   ]
  },
  {
   "cell_type": "code",
   "execution_count": 25,
   "metadata": {
    "colab": {},
    "colab_type": "code",
    "id": "qMX1PQ9y8LaK"
   },
   "outputs": [],
   "source": [
    "#Обучение моделей\n",
    "fm1 = clone(model2).fit(df.loc[:,cols_forward], df['goal1'])\n",
    "fm2 = clone(model1).fit(df.loc[:,cols_forward], df['goal1'])\n",
    "bm1 = clone(model2).fit(df.loc[:,cols_backward], df['goal1'])\n",
    "bm2 = clone(model1).fit(df.loc[:,cols_backward], df['goal1'])\n",
    "m1 = clone(model1).fit(df.loc[:,cols], df['goal1'])"
   ]
  },
  {
   "cell_type": "code",
   "execution_count": 29,
   "metadata": {
    "colab": {},
    "colab_type": "code",
    "id": "Vrhk4E9s8qxc"
   },
   "outputs": [],
   "source": [
    "#Предикт\n",
    "test['proba'] = \\\n",
    "fm1.predict(test.loc[:,cols_forward])*0.5*0.5 + \\\n",
    "fm2.predict(test.loc[:,cols_forward])*0.5*0.5 + \\\n",
    "bm1.predict(test.loc[:,cols_backward])*0.3*0.5 + \\\n",
    "bm2.predict(test.loc[:,cols_backward])*0.3*0.5 + \\\n",
    "m1.predict(test.loc[:,cols])*0.2"
   ]
  },
  {
   "cell_type": "code",
   "execution_count": 30,
   "metadata": {
    "colab": {},
    "colab_type": "code",
    "id": "Samslddn839C"
   },
   "outputs": [],
   "source": [
    "test[['orderid', 'proba']].to_csv(r'submissions\\egor_1.csv', index=False)"
   ]
  }
 ],
 "metadata": {
  "colab": {
   "name": "egor task 1 final.ipynb",
   "provenance": []
  },
  "kernelspec": {
   "display_name": "Python 3",
   "language": "python",
   "name": "python3"
  },
  "language_info": {
   "codemirror_mode": {
    "name": "ipython",
    "version": 3
   },
   "file_extension": ".py",
   "mimetype": "text/x-python",
   "name": "python",
   "nbconvert_exporter": "python",
   "pygments_lexer": "ipython3",
   "version": "3.5.4"
  }
 },
 "nbformat": 4,
 "nbformat_minor": 1
}
